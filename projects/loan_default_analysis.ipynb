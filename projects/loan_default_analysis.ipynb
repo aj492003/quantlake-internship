{
 "cells": [
  {
   "cell_type": "markdown",
   "id": "142502f0",
   "metadata": {},
   "source": [
    "# 📊 Credit Risk Analytics – Loan Default Prediction"
   ]
  },
  {
   "cell_type": "markdown",
   "id": "51d1bf80",
   "metadata": {},
   "source": [
    "**Author:** Ankur Jha  \n",
    "**Project:** QuantLake Data Analyst Internship – Final Project"
   ]
  },
  {
   "cell_type": "markdown",
   "id": "087a5d26",
   "metadata": {},
   "source": [
    "## 🧩 1. Load Dataset"
   ]
  },
  {
   "cell_type": "code",
   "execution_count": null,
   "id": "b5444bdb",
   "metadata": {},
   "outputs": [],
   "source": [
    "\n",
    "import pandas as pd\n",
    "\n",
    "# Replace with your actual file name after uploading to Colab / Jupyter\n",
    "df = pd.read_csv(\"bank.csv\")\n",
    "df.head()\n"
   ]
  },
  {
   "cell_type": "markdown",
   "id": "978d7ae6",
   "metadata": {},
   "source": [
    "## 🧹 2. Data Cleaning"
   ]
  },
  {
   "cell_type": "code",
   "execution_count": null,
   "id": "b6c2e908",
   "metadata": {},
   "outputs": [],
   "source": [
    "\n",
    "# Check nulls\n",
    "print(df.isnull().sum())\n",
    "\n",
    "# Convert negative experience to positive\n",
    "df['Experience'] = df['Experience'].apply(lambda x: abs(x))\n",
    "\n",
    "# Map categorical values\n",
    "df['Education'] = df['Education'].map({\n",
    "    'Undergrad': 0,\n",
    "    'Graduate': 1,\n",
    "    'Advanced/Professional': 2\n",
    "})\n",
    "\n",
    "df['Securities Account'] = df['Securities Account'].astype(int)\n",
    "df['CD Account'] = df['CD Account'].astype(int)\n",
    "df['Online'] = df['Online'].astype(int)\n",
    "df['CreditCard'] = df['CreditCard'].astype(int)\n"
   ]
  },
  {
   "cell_type": "markdown",
   "id": "bec77f40",
   "metadata": {},
   "source": [
    "## 📊 3. Exploratory Data Analysis (EDA)"
   ]
  },
  {
   "cell_type": "code",
   "execution_count": null,
   "id": "c3bbc626",
   "metadata": {},
   "outputs": [],
   "source": [
    "\n",
    "import matplotlib.pyplot as plt\n",
    "import seaborn as sns\n",
    "\n",
    "# Target variable distribution\n",
    "sns.countplot(x='Personal Loan', data=df)\n",
    "plt.title('Loan Approval Distribution')\n",
    "plt.show()\n",
    "\n",
    "# Income vs Loan Approval\n",
    "sns.boxplot(x='Personal Loan', y='Income', data=df)\n",
    "plt.title('Income vs Loan Approval')\n",
    "plt.show()\n",
    "\n",
    "# Correlation heatmap\n",
    "plt.figure(figsize=(12, 6))\n",
    "sns.heatmap(df.corr(), annot=True, cmap='coolwarm')\n",
    "plt.title(\"Correlation Matrix\")\n",
    "plt.show()\n"
   ]
  },
  {
   "cell_type": "markdown",
   "id": "662972ec",
   "metadata": {},
   "source": [
    "## 🧠 4. Predictive Modeling (Logistic Regression)"
   ]
  },
  {
   "cell_type": "code",
   "execution_count": null,
   "id": "e9c39457",
   "metadata": {},
   "outputs": [],
   "source": [
    "\n",
    "from sklearn.model_selection import train_test_split\n",
    "from sklearn.linear_model import LogisticRegression\n",
    "from sklearn.metrics import classification_report, confusion_matrix\n",
    "\n",
    "X = df.drop('Personal Loan', axis=1)\n",
    "y = df['Personal Loan']\n",
    "\n",
    "X_train, X_test, y_train, y_test = train_test_split(X, y, test_size=0.3, random_state=42)\n",
    "\n",
    "model = LogisticRegression(max_iter=1000)\n",
    "model.fit(X_train, y_train)\n",
    "y_pred = model.predict(X_test)\n",
    "\n",
    "print(confusion_matrix(y_test, y_pred))\n",
    "print(classification_report(y_test, y_pred))\n"
   ]
  },
  {
   "cell_type": "markdown",
   "id": "3f8e937f",
   "metadata": {},
   "source": [
    "## 📌 5. Business Insights & Drivers of Default"
   ]
  },
  {
   "cell_type": "markdown",
   "id": "499e9998",
   "metadata": {},
   "source": [
    "\n",
    "### Top 5 Drivers of Loan Default:\n",
    "1. **Income** – Higher income tends to reduce default probability.\n",
    "2. **CD Account** – Customers with CD accounts have higher acceptance.\n",
    "3. **Education Level** – Higher education correlates with approval.\n",
    "4. **Mortgage** – High mortgage doesn't directly mean rejection.\n",
    "5. **Online Banking** – Users using online facilities are more likely to get approved.\n",
    "\n",
    "---\n",
    "✅ Use this notebook to build plots, train models, and finalize insights for your GitHub repo and project submission.\n"
   ]
  }
 ],
 "metadata": {},
 "nbformat": 4,
 "nbformat_minor": 5
}