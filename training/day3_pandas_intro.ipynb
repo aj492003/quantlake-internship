{
  "cells": [
    {
      "cell_type": "markdown",
      "id": "960674c8",
      "metadata": {
        "id": "960674c8"
      },
      "source": [
        "# Day 3: Pandas Introduction"
      ]
    },
    {
      "cell_type": "code",
      "source": [],
      "metadata": {
        "id": "XRfqdZFCok5V"
      },
      "id": "XRfqdZFCok5V",
      "execution_count": null,
      "outputs": []
    },
    {
      "cell_type": "markdown",
      "id": "0dcb51da",
      "metadata": {
        "id": "0dcb51da"
      },
      "source": [
        "## Import and Setup"
      ]
    },
    {
      "cell_type": "code",
      "execution_count": null,
      "id": "4d0fabf9",
      "metadata": {
        "id": "4d0fabf9"
      },
      "outputs": [],
      "source": [
        "import pandas as pd\n",
        "import numpy as np"
      ]
    },
    {
      "cell_type": "markdown",
      "id": "258bd21c",
      "metadata": {
        "id": "258bd21c"
      },
      "source": [
        "## Creating Series and DataFrame"
      ]
    },
    {
      "cell_type": "code",
      "execution_count": null,
      "id": "46e1f80a",
      "metadata": {
        "id": "46e1f80a",
        "outputId": "910bd8b0-2e3e-45b5-b5f4-936e2f2ae75b",
        "colab": {
          "base_uri": "https://localhost:8080/"
        }
      },
      "outputs": [
        {
          "output_type": "stream",
          "name": "stdout",
          "text": [
            "0    10\n",
            "1    20\n",
            "2    30\n",
            "dtype: int64\n",
            "    Name  Age\n",
            "0  Alice   25\n",
            "1    Bob   30\n"
          ]
        }
      ],
      "source": [
        "s = pd.Series([10, 20, 30])\n",
        "df = pd.DataFrame({'Name': ['Alice', 'Bob'], 'Age': [25, 30]})\n",
        "print(s)\n",
        "print(df)"
      ]
    },
    {
      "cell_type": "markdown",
      "id": "12fb80c3",
      "metadata": {
        "id": "12fb80c3"
      },
      "source": [
        "## Load Dataset (Iris)"
      ]
    },
    {
      "cell_type": "code",
      "execution_count": null,
      "id": "e1815f01",
      "metadata": {
        "id": "e1815f01",
        "outputId": "27c60843-ad78-4def-8593-86889082293e",
        "colab": {
          "base_uri": "https://localhost:8080/"
        }
      },
      "outputs": [
        {
          "output_type": "stream",
          "name": "stdout",
          "text": [
            "   sepal length (cm)  sepal width (cm)  petal length (cm)  petal width (cm)\n",
            "0                5.1               3.5                1.4               0.2\n",
            "1                4.9               3.0                1.4               0.2\n",
            "2                4.7               3.2                1.3               0.2\n",
            "3                4.6               3.1                1.5               0.2\n",
            "4                5.0               3.6                1.4               0.2\n"
          ]
        }
      ],
      "source": [
        "from sklearn.datasets import load_iris\n",
        "data = load_iris()\n",
        "df = pd.DataFrame(data.data, columns=data.feature_names)\n",
        "print(df.head())"
      ]
    },
    {
      "cell_type": "markdown",
      "id": "b49e047d",
      "metadata": {
        "id": "b49e047d"
      },
      "source": [
        "## Inspecting Data"
      ]
    },
    {
      "cell_type": "code",
      "execution_count": null,
      "id": "fefa825d",
      "metadata": {
        "id": "fefa825d",
        "outputId": "ce78387d-783f-4e57-8f5b-4028572f051d",
        "colab": {
          "base_uri": "https://localhost:8080/"
        }
      },
      "outputs": [
        {
          "output_type": "stream",
          "name": "stdout",
          "text": [
            "<class 'pandas.core.frame.DataFrame'>\n",
            "RangeIndex: 150 entries, 0 to 149\n",
            "Data columns (total 4 columns):\n",
            " #   Column             Non-Null Count  Dtype  \n",
            "---  ------             --------------  -----  \n",
            " 0   sepal length (cm)  150 non-null    float64\n",
            " 1   sepal width (cm)   150 non-null    float64\n",
            " 2   petal length (cm)  150 non-null    float64\n",
            " 3   petal width (cm)   150 non-null    float64\n",
            "dtypes: float64(4)\n",
            "memory usage: 4.8 KB\n",
            "None\n",
            "       sepal length (cm)  sepal width (cm)  petal length (cm)  \\\n",
            "count         150.000000        150.000000         150.000000   \n",
            "mean            5.843333          3.057333           3.758000   \n",
            "std             0.828066          0.435866           1.765298   \n",
            "min             4.300000          2.000000           1.000000   \n",
            "25%             5.100000          2.800000           1.600000   \n",
            "50%             5.800000          3.000000           4.350000   \n",
            "75%             6.400000          3.300000           5.100000   \n",
            "max             7.900000          4.400000           6.900000   \n",
            "\n",
            "       petal width (cm)  \n",
            "count        150.000000  \n",
            "mean           1.199333  \n",
            "std            0.762238  \n",
            "min            0.100000  \n",
            "25%            0.300000  \n",
            "50%            1.300000  \n",
            "75%            1.800000  \n",
            "max            2.500000  \n",
            "sepal length (cm)    0\n",
            "sepal width (cm)     0\n",
            "petal length (cm)    0\n",
            "petal width (cm)     0\n",
            "dtype: int64\n"
          ]
        }
      ],
      "source": [
        "print(df.info())\n",
        "print(df.describe())\n",
        "print(df.isnull().sum())"
      ]
    },
    {
      "cell_type": "markdown",
      "id": "f8d26018",
      "metadata": {
        "id": "f8d26018"
      },
      "source": [
        "## Accessing Data"
      ]
    },
    {
      "cell_type": "code",
      "execution_count": null,
      "id": "4fa27028",
      "metadata": {
        "id": "4fa27028",
        "outputId": "b820e899-a59d-4410-d78a-1f915a05b711",
        "colab": {
          "base_uri": "https://localhost:8080/"
        }
      },
      "outputs": [
        {
          "output_type": "stream",
          "name": "stdout",
          "text": [
            "sepal length (cm)    5.1\n",
            "sepal width (cm)     3.5\n",
            "petal length (cm)    1.4\n",
            "petal width (cm)     0.2\n",
            "Name: 0, dtype: float64\n",
            "sepal length (cm)    5.1\n",
            "sepal width (cm)     3.5\n",
            "Name: 0, dtype: float64\n"
          ]
        }
      ],
      "source": [
        "print(df.iloc[0])\n",
        "print(df.loc[0, ['sepal length (cm)', 'sepal width (cm)']])"
      ]
    },
    {
      "cell_type": "markdown",
      "id": "2133ea83",
      "metadata": {
        "id": "2133ea83"
      },
      "source": [
        "## Add/Drop Columns"
      ]
    },
    {
      "cell_type": "code",
      "execution_count": null,
      "id": "b277aa71",
      "metadata": {
        "id": "b277aa71"
      },
      "outputs": [],
      "source": [
        "df['sum'] = df.sum(axis=1)\n",
        "df = df.drop(columns=['sum'])"
      ]
    },
    {
      "cell_type": "markdown",
      "id": "cef6f70f",
      "metadata": {
        "id": "cef6f70f"
      },
      "source": [
        "## Built-in Methods"
      ]
    },
    {
      "cell_type": "code",
      "execution_count": null,
      "id": "e4c81eba",
      "metadata": {
        "id": "e4c81eba",
        "outputId": "f1f2a7ec-ae6d-4305-bd03-63c1e9b2ed88",
        "colab": {
          "base_uri": "https://localhost:8080/"
        }
      },
      "outputs": [
        {
          "output_type": "stream",
          "name": "stdout",
          "text": [
            "sepal length (cm)    5.843333\n",
            "sepal width (cm)     3.057333\n",
            "petal length (cm)    3.758000\n",
            "petal width (cm)     1.199333\n",
            "dtype: float64\n",
            "    sepal length (cm)  sepal width (cm)  petal length (cm)  petal width (cm)\n",
            "13                4.3               3.0                1.1               0.1\n",
            "8                 4.4               2.9                1.4               0.2\n",
            "42                4.4               3.2                1.3               0.2\n",
            "38                4.4               3.0                1.3               0.2\n",
            "41                4.5               2.3                1.3               0.3\n",
            "sepal length (cm)\n",
            "5.0    10\n",
            "6.3     9\n",
            "5.1     9\n",
            "6.7     8\n",
            "5.7     8\n",
            "6.4     7\n",
            "5.5     7\n",
            "5.8     7\n",
            "4.9     6\n",
            "6.0     6\n",
            "5.4     6\n",
            "5.6     6\n",
            "6.1     6\n",
            "6.5     5\n",
            "4.8     5\n",
            "7.7     4\n",
            "6.9     4\n",
            "4.6     4\n",
            "5.2     4\n",
            "6.2     4\n",
            "4.4     3\n",
            "7.2     3\n",
            "5.9     3\n",
            "6.8     3\n",
            "4.7     2\n",
            "6.6     2\n",
            "4.3     1\n",
            "7.0     1\n",
            "5.3     1\n",
            "4.5     1\n",
            "7.1     1\n",
            "7.3     1\n",
            "7.6     1\n",
            "7.4     1\n",
            "7.9     1\n",
            "Name: count, dtype: int64\n"
          ]
        }
      ],
      "source": [
        "print(df.mean())\n",
        "print(df.sort_values(by='sepal length (cm)').head())\n",
        "print(df['sepal length (cm)'].value_counts())"
      ]
    },
    {
      "cell_type": "code",
      "source": [
        "print(\"Completed Day 3 Notebook for QuantLake Internship ✅\")\n"
      ],
      "metadata": {
        "colab": {
          "base_uri": "https://localhost:8080/"
        },
        "id": "M4U_JEeXomOn",
        "outputId": "bd61bef8-4dd1-4543-97ec-058f733e6e5f"
      },
      "id": "M4U_JEeXomOn",
      "execution_count": null,
      "outputs": [
        {
          "output_type": "stream",
          "name": "stdout",
          "text": [
            "Completed Day 3 Notebook for QuantLake Internship ✅\n"
          ]
        }
      ]
    }
  ],
  "metadata": {
    "colab": {
      "provenance": []
    },
    "language_info": {
      "name": "python"
    },
    "kernelspec": {
      "name": "python3",
      "display_name": "Python 3"
    }
  },
  "nbformat": 4,
  "nbformat_minor": 5
}