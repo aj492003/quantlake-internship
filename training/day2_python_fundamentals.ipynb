{
  "cells": [
    {
      "cell_type": "markdown",
      "id": "71454786",
      "metadata": {
        "id": "71454786"
      },
      "source": [
        "# Day 2: Python Fundamentals"
      ]
    },
    {
      "cell_type": "markdown",
      "id": "6370ad2d",
      "metadata": {
        "id": "6370ad2d"
      },
      "source": [
        "## Data Structures: list, tuple, set, dict"
      ]
    },
    {
      "cell_type": "code",
      "execution_count": null,
      "id": "6a6fa45b",
      "metadata": {
        "id": "6a6fa45b",
        "outputId": "789968df-746a-4ccc-c63f-c4f581f980b4",
        "colab": {
          "base_uri": "https://localhost:8080/"
        }
      },
      "outputs": [
        {
          "output_type": "stream",
          "name": "stdout",
          "text": [
            "{1, 2, 3} 90\n"
          ]
        }
      ],
      "source": [
        "my_list = [1, 2, 2, 3]\n",
        "my_set = set(my_list)\n",
        "my_dict = {'math': 90, 'science': 85}\n",
        "print(my_set, my_dict['math'])"
      ]
    },
    {
      "cell_type": "markdown",
      "id": "32033d03",
      "metadata": {
        "id": "32033d03"
      },
      "source": [
        "## List Comprehension"
      ]
    },
    {
      "cell_type": "code",
      "execution_count": null,
      "id": "632c8700",
      "metadata": {
        "id": "632c8700",
        "outputId": "534c2863-dc70-4972-9870-dac238095436",
        "colab": {
          "base_uri": "https://localhost:8080/"
        }
      },
      "outputs": [
        {
          "output_type": "stream",
          "name": "stdout",
          "text": [
            "[0, 1, 4, 9, 16]\n"
          ]
        }
      ],
      "source": [
        "squares = [x**2 for x in range(5)]\n",
        "print(squares)"
      ]
    },
    {
      "cell_type": "markdown",
      "id": "be67c94a",
      "metadata": {
        "id": "be67c94a"
      },
      "source": [
        "## Functions"
      ]
    },
    {
      "cell_type": "code",
      "execution_count": null,
      "id": "e96bd1d7",
      "metadata": {
        "id": "e96bd1d7"
      },
      "outputs": [],
      "source": [
        "def factorial(n):\n",
        "    return 1 if n == 0 else n * factorial(n-1)\n",
        "\n",
        "def is_prime(n):\n",
        "    return all(n % i != 0 for i in range(2, int(n**0.5)+1)) if n > 1 else False"
      ]
    },
    {
      "cell_type": "markdown",
      "id": "9c0bf62a",
      "metadata": {
        "id": "9c0bf62a"
      },
      "source": [
        "## Modules"
      ]
    },
    {
      "cell_type": "code",
      "execution_count": null,
      "id": "7189a2af",
      "metadata": {
        "id": "7189a2af",
        "outputId": "940eb29e-de9a-48cd-b5d0-49fc9ee66cfc",
        "colab": {
          "base_uri": "https://localhost:8080/"
        }
      },
      "outputs": [
        {
          "output_type": "stream",
          "name": "stdout",
          "text": [
            "5.0 3 2025-06-22 12:37:54.213673\n"
          ]
        }
      ],
      "source": [
        "import math, random, datetime\n",
        "print(math.sqrt(25), random.randint(1, 10), datetime.datetime.now())"
      ]
    },
    {
      "cell_type": "markdown",
      "id": "1f6d88d0",
      "metadata": {
        "id": "1f6d88d0"
      },
      "source": [
        "## Exception Handling"
      ]
    },
    {
      "cell_type": "code",
      "execution_count": null,
      "id": "e78c5632",
      "metadata": {
        "id": "e78c5632",
        "outputId": "1f9dea19-9737-43d1-9d55-0bb8d8b4788a",
        "colab": {
          "base_uri": "https://localhost:8080/"
        }
      },
      "outputs": [
        {
          "output_type": "stream",
          "name": "stdout",
          "text": [
            "Cannot divide by zero\n",
            "Done\n"
          ]
        }
      ],
      "source": [
        "try:\n",
        "    x = 1 / 0\n",
        "except ZeroDivisionError:\n",
        "    print('Cannot divide by zero')\n",
        "finally:\n",
        "    print('Done')"
      ]
    },
    {
      "cell_type": "markdown",
      "id": "59b6dad6",
      "metadata": {
        "id": "59b6dad6"
      },
      "source": [
        "## Mini Problems"
      ]
    },
    {
      "cell_type": "code",
      "execution_count": null,
      "id": "72ead8fc",
      "metadata": {
        "id": "72ead8fc",
        "outputId": "6c512ce9-ec99-4c34-e29d-6afbd8fcfaef",
        "colab": {
          "base_uri": "https://localhost:8080/"
        }
      },
      "outputs": [
        {
          "output_type": "stream",
          "name": "stdout",
          "text": [
            "1\n",
            "2\n",
            "Fizz\n",
            "4\n",
            "Buzz\n",
            "Fizz\n",
            "7\n",
            "8\n",
            "Fizz\n",
            "Buzz\n",
            "11\n",
            "Fizz\n",
            "13\n",
            "14\n",
            "FizzBuzz\n"
          ]
        }
      ],
      "source": [
        "# FizzBuzz\n",
        "for i in range(1, 16):\n",
        "    if i % 3 == 0 and i % 5 == 0:\n",
        "        print('FizzBuzz')\n",
        "    elif i % 3 == 0:\n",
        "        print('Fizz')\n",
        "    elif i % 5 == 0:\n",
        "        print('Buzz')\n",
        "    else:\n",
        "        print(i)"
      ]
    },
    {
      "cell_type": "code",
      "execution_count": null,
      "id": "f72c0b22",
      "metadata": {
        "id": "f72c0b22",
        "outputId": "635145ec-ad17-4248-803b-7769c5674cad",
        "colab": {
          "base_uri": "https://localhost:8080/"
        }
      },
      "outputs": [
        {
          "output_type": "stream",
          "name": "stdout",
          "text": [
            "ekaLtnauQ\n"
          ]
        }
      ],
      "source": [
        "# Reverse a string\n",
        "s = 'QuantLake'\n",
        "print(s[::-1])"
      ]
    },
    {
      "cell_type": "code",
      "source": [
        "print(\"Completed Day 2 Notebook for QuantLake Internship ✅\")\n"
      ],
      "metadata": {
        "id": "p9Cbpt6mo0wM",
        "outputId": "5b468048-073d-4a96-e42d-a2026e50468d",
        "colab": {
          "base_uri": "https://localhost:8080/"
        }
      },
      "id": "p9Cbpt6mo0wM",
      "execution_count": null,
      "outputs": [
        {
          "output_type": "stream",
          "name": "stdout",
          "text": [
            "Completed Day 2 Notebook for QuantLake Internship ✅\n"
          ]
        }
      ]
    }
  ],
  "metadata": {
    "colab": {
      "provenance": []
    },
    "language_info": {
      "name": "python"
    },
    "kernelspec": {
      "name": "python3",
      "display_name": "Python 3"
    }
  },
  "nbformat": 4,
  "nbformat_minor": 5
}