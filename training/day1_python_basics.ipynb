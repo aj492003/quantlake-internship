{
  "cells": [
    {
      "cell_type": "markdown",
      "id": "b16ddf72",
      "metadata": {
        "id": "b16ddf72"
      },
      "source": [
        "# Day 1: Python Basics"
      ]
    },
    {
      "cell_type": "markdown",
      "id": "222f1abb",
      "metadata": {
        "id": "222f1abb"
      },
      "source": [
        "## Variable Types"
      ]
    },
    {
      "cell_type": "code",
      "execution_count": null,
      "id": "3a532650",
      "metadata": {
        "id": "3a532650",
        "outputId": "8eb48f3b-45fb-408a-83e3-8ed3098543f7",
        "colab": {
          "base_uri": "https://localhost:8080/"
        }
      },
      "outputs": [
        {
          "output_type": "stream",
          "name": "stdout",
          "text": [
            "<class 'int'> <class 'str'> <class 'float'> <class 'bool'>\n"
          ]
        }
      ],
      "source": [
        "x = 10\n",
        "name = 'Ankur'\n",
        "price = 99.99\n",
        "is_valid = True\n",
        "print(type(x), type(name), type(price), type(is_valid))"
      ]
    },
    {
      "cell_type": "markdown",
      "id": "e780edbf",
      "metadata": {
        "id": "e780edbf"
      },
      "source": [
        "## Lists, Tuples, and Dictionaries"
      ]
    },
    {
      "cell_type": "code",
      "execution_count": null,
      "id": "4a4ae1d0",
      "metadata": {
        "id": "4a4ae1d0",
        "outputId": "ed1a594e-2075-45d4-ab8e-75f0b6d565c4",
        "colab": {
          "base_uri": "https://localhost:8080/"
        }
      },
      "outputs": [
        {
          "output_type": "stream",
          "name": "stdout",
          "text": [
            "[1, 2, 3] (4, 5, 6) {'name': 'Ankur', 'age': 21}\n"
          ]
        }
      ],
      "source": [
        "my_list = [1, 2, 3]\n",
        "my_tuple = (4, 5, 6)\n",
        "my_dict = {'name': 'Ankur', 'age': 21}\n",
        "print(my_list, my_tuple, my_dict)"
      ]
    },
    {
      "cell_type": "markdown",
      "id": "c5cb1c7a",
      "metadata": {
        "id": "c5cb1c7a"
      },
      "source": [
        "## Operators"
      ]
    },
    {
      "cell_type": "code",
      "execution_count": null,
      "id": "e19a6e75",
      "metadata": {
        "id": "e19a6e75",
        "outputId": "8c7e9ec2-9e66-4f08-aa75-0dbf9f168846",
        "colab": {
          "base_uri": "https://localhost:8080/"
        }
      },
      "outputs": [
        {
          "output_type": "stream",
          "name": "stdout",
          "text": [
            "15 5 50 2.0 True False\n"
          ]
        }
      ],
      "source": [
        "a = 10\n",
        "b = 5\n",
        "print(a + b, a - b, a * b, a / b, a > b, a == b)"
      ]
    },
    {
      "cell_type": "markdown",
      "id": "0133c1bd",
      "metadata": {
        "id": "0133c1bd"
      },
      "source": [
        "## Control Flow: if, elif, else"
      ]
    },
    {
      "cell_type": "code",
      "execution_count": null,
      "id": "39b51aee",
      "metadata": {
        "id": "39b51aee",
        "outputId": "35269309-d30f-4141-f9cd-e4081b601590",
        "colab": {
          "base_uri": "https://localhost:8080/"
        }
      },
      "outputs": [
        {
          "output_type": "stream",
          "name": "stdout",
          "text": [
            "Positive\n"
          ]
        }
      ],
      "source": [
        "num = 7\n",
        "if num > 0:\n",
        "    print('Positive')\n",
        "elif num < 0:\n",
        "    print('Negative')\n",
        "else:\n",
        "    print('Zero')"
      ]
    },
    {
      "cell_type": "markdown",
      "id": "fd410e16",
      "metadata": {
        "id": "fd410e16"
      },
      "source": [
        "## Loops"
      ]
    },
    {
      "cell_type": "code",
      "execution_count": null,
      "id": "0c87a028",
      "metadata": {
        "id": "0c87a028",
        "outputId": "e519a487-68fe-4b10-f7e3-2f2d83e8d0c1",
        "colab": {
          "base_uri": "https://localhost:8080/"
        }
      },
      "outputs": [
        {
          "output_type": "stream",
          "name": "stdout",
          "text": [
            "Loop 0\n",
            "Loop 1\n",
            "Loop 2\n",
            "Count 0\n",
            "Count 1\n",
            "Count 2\n"
          ]
        }
      ],
      "source": [
        "for i in range(3):\n",
        "    print('Loop', i)\n",
        "\n",
        "count = 0\n",
        "while count < 3:\n",
        "    print('Count', count)\n",
        "    count += 1"
      ]
    },
    {
      "cell_type": "code",
      "source": [
        "print(\"Completed Day 1 Notebook for QuantLake Internship ✅\")\n"
      ],
      "metadata": {
        "id": "Xl8hjhQEpGE2",
        "outputId": "c9eb7122-9728-4fc7-def8-9838c04813eb",
        "colab": {
          "base_uri": "https://localhost:8080/"
        }
      },
      "id": "Xl8hjhQEpGE2",
      "execution_count": null,
      "outputs": [
        {
          "output_type": "stream",
          "name": "stdout",
          "text": [
            "Completed Day 1 Notebook for QuantLake Internship ✅\n"
          ]
        }
      ]
    }
  ],
  "metadata": {
    "colab": {
      "provenance": []
    },
    "language_info": {
      "name": "python"
    },
    "kernelspec": {
      "name": "python3",
      "display_name": "Python 3"
    }
  },
  "nbformat": 4,
  "nbformat_minor": 5
}